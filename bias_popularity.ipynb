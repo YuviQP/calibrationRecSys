{
 "cells": [
  {
   "cell_type": "code",
   "execution_count": 2,
   "id": "1b53898a-d074-4c93-a41b-e5565a0eab37",
   "metadata": {
    "tags": []
   },
   "outputs": [],
   "source": [
    "import pandas as pd\n",
    "import numpy as np\n",
    "import matplotlib.pyplot as plt\n",
    "import seaborn as sns\n",
    "from sklearn.model_selection import train_test_split"
   ]
  },
  {
   "cell_type": "markdown",
   "id": "73a72052-880e-4436-b2e1-b771504e6e6a",
   "metadata": {
    "tags": []
   },
   "source": [
    "### Loading data"
   ]
  },
  {
   "cell_type": "code",
   "execution_count": 4,
   "id": "bf21ccf6-948e-4c5e-be06-c114e4e71bb2",
   "metadata": {
    "tags": []
   },
   "outputs": [],
   "source": [
    "column_n = ['itemId', 'category', 'subcategory', 'title', 'abstract', 'url', 'TitleEnt', 'AbstractEnt']\n",
    "column_b = ['ImpressionId', 'userId', 'timestamps', 'history', 'impressions']\n",
    "news_df  = pd.read_csv('data/news.tsv', sep='\\t', header=None, names=column_n)\n",
    "behaviors_df= pd.read_csv('data/behaviors.tsv', sep='\\t', header=None, names=column_b)"
   ]
  },
  {
   "cell_type": "code",
   "execution_count": 14,
   "id": "c73d08cf-69a0-4f11-a02a-a79a9afa9c47",
   "metadata": {
    "tags": []
   },
   "outputs": [],
   "source": [
    "sample_behaviors_df = behaviors_df.sample(frac=0.10, random_state=42)"
   ]
  },
  {
   "cell_type": "markdown",
   "id": "8a3690c8-ef71-4e38-a82a-2b8086eabeb1",
   "metadata": {},
   "source": [
    "### Preprocessing"
   ]
  },
  {
   "cell_type": "code",
   "execution_count": 16,
   "id": "492a6e37-d70b-4a55-a9f0-851dfff47fdb",
   "metadata": {
    "tags": []
   },
   "outputs": [],
   "source": [
    "# Delete users who don't have history     \n",
    "sample_behaviors_df = sample_behaviors_df[sample_behaviors_df['history'].notna() & (sample_behaviors_df['history'] != '')]"
   ]
  },
  {
   "cell_type": "code",
   "execution_count": 23,
   "id": "bc448c6b-84cb-4ed2-990e-9c8ccb7263dd",
   "metadata": {
    "tags": []
   },
   "outputs": [],
   "source": [
    "# Delete news when don't title and abstract\n",
    "news_df = news_df.dropna(subset=['title', 'abstract'])"
   ]
  },
  {
   "cell_type": "code",
   "execution_count": 25,
   "id": "088f0bf5-7f3a-4845-b6fd-8829a89d812d",
   "metadata": {
    "tags": []
   },
   "outputs": [],
   "source": [
    "# Remove 'U' prefix from 'user' and 'N' prefix from 'item'\n",
    "sample_behaviors_df['userId'] = sample_behaviors_df['userId'].str.replace('U', '', regex=False)\n",
    "news_df['itemId'] = news_df['itemId'].str.replace('N', '', regex=False)"
   ]
  },
  {
   "cell_type": "code",
   "execution_count": 27,
   "id": "21381ff0-303e-4fe9-8722-1cdc3d61bc14",
   "metadata": {
    "tags": []
   },
   "outputs": [],
   "source": [
    "# Split behaviors_df into 80% training and 20% testing\n",
    "train_behaviors, test_behaviors = train_test_split(sample_behaviors_df, test_size=0.2, random_state=42)"
   ]
  },
  {
   "cell_type": "code",
   "execution_count": 29,
   "id": "5a47225c-4fa2-4adb-b8d0-9e0c1af7b365",
   "metadata": {
    "tags": []
   },
   "outputs": [],
   "source": [
    "# Prepare train.dat\n",
    "train_data = []\n",
    "for _, row in train_behaviors.iterrows():\n",
    "    user_id = row['userId']\n",
    "    history_items = row['history'].split()  # Assuming history items are space-separated\n",
    "    for item in history_items:\n",
    "        train_data.append([user_id, item, 1.0])  # Assign a binary rating of 1.0\n",
    "\n",
    "train_df = pd.DataFrame(train_data, columns=['userId', 'itemId', 'rating'])\n",
    "\n",
    "# Prepare test.dat\n",
    "test_data = []\n",
    "for _, row in test_behaviors.iterrows():\n",
    "    user_id = row['userId']\n",
    "    history_items = row['history'].split()\n",
    "    for item in history_items:\n",
    "        test_data.append([user_id, item, 1.0])  # Assign a binary rating of 1.0\n",
    "\n",
    "test_df = pd.DataFrame(test_data, columns=['userId', 'itemId', 'rating'])\n"
   ]
  },
  {
   "cell_type": "code",
   "execution_count": 31,
   "id": "5fe28c82-ba77-4630-9143-6a8c1545ac80",
   "metadata": {
    "tags": []
   },
   "outputs": [],
   "source": [
    "train_df['itemId'] = train_df['itemId'].str.replace('N', '', regex=False)\n",
    "test_df['itemId'] = test_df['itemId'].str.replace('N', '', regex=False)"
   ]
  },
  {
   "cell_type": "code",
   "execution_count": 33,
   "id": "da7b0fbb-7fb4-4329-b0b7-f5d5971d2f75",
   "metadata": {
    "tags": []
   },
   "outputs": [],
   "source": [
    "combined_df = pd.concat([train_df,test_df], axis=0, ignore_index=True)"
   ]
  },
  {
   "cell_type": "markdown",
   "id": "82070004-577d-458c-a77e-1da82baf088c",
   "metadata": {},
   "source": [
    "### Mapeamento os dados"
   ]
  },
  {
   "cell_type": "code",
   "execution_count": 35,
   "id": "6fdcc089-a62c-4c25-98f3-83c0a356318e",
   "metadata": {
    "tags": []
   },
   "outputs": [],
   "source": [
    "df=combined_df"
   ]
  },
  {
   "cell_type": "code",
   "execution_count": 37,
   "id": "e6deded5-ac83-4209-b428-42e34ded12c8",
   "metadata": {
    "tags": []
   },
   "outputs": [
    {
     "data": {
      "text/html": [
       "<div>\n",
       "<style scoped>\n",
       "    .dataframe tbody tr th:only-of-type {\n",
       "        vertical-align: middle;\n",
       "    }\n",
       "\n",
       "    .dataframe tbody tr th {\n",
       "        vertical-align: top;\n",
       "    }\n",
       "\n",
       "    .dataframe thead th {\n",
       "        text-align: right;\n",
       "    }\n",
       "</style>\n",
       "<table border=\"1\" class=\"dataframe\">\n",
       "  <thead>\n",
       "    <tr style=\"text-align: right;\">\n",
       "      <th></th>\n",
       "      <th>userId</th>\n",
       "      <th>itemId</th>\n",
       "      <th>rating</th>\n",
       "    </tr>\n",
       "  </thead>\n",
       "  <tbody>\n",
       "    <tr>\n",
       "      <th>0</th>\n",
       "      <td>22342</td>\n",
       "      <td>60615</td>\n",
       "      <td>1.0</td>\n",
       "    </tr>\n",
       "    <tr>\n",
       "      <th>1</th>\n",
       "      <td>22342</td>\n",
       "      <td>59742</td>\n",
       "      <td>1.0</td>\n",
       "    </tr>\n",
       "  </tbody>\n",
       "</table>\n",
       "</div>"
      ],
      "text/plain": [
       "  userId itemId  rating\n",
       "0  22342  60615     1.0\n",
       "1  22342  59742     1.0"
      ]
     },
     "execution_count": 37,
     "metadata": {},
     "output_type": "execute_result"
    }
   ],
   "source": [
    "df.head(2)"
   ]
  },
  {
   "cell_type": "code",
   "execution_count": 39,
   "id": "c86345cc-5e19-48f1-81d1-466dab93ce59",
   "metadata": {
    "tags": []
   },
   "outputs": [
    {
     "name": "stdout",
     "output_type": "stream",
     "text": [
      "Numero de Usuarios total:  50000\n",
      "Numero de Usuarios:  12442\n",
      "Numero de noticias total:  48616\n",
      "Numero de noticias:  22980\n"
     ]
    }
   ],
   "source": [
    "n_noticias_total = len(news_df['itemId'].unique())\n",
    "n_usuarios_total = len(behaviors_df['userId'].unique())\n",
    "n_noticias = len(df['itemId'].unique())\n",
    "n_usuarios = len(df['userId'].unique())\n",
    "\n",
    "print(\"Numero de Usuarios total: \", n_usuarios_total)\n",
    "print(\"Numero de Usuarios: \", n_usuarios)\n",
    "\n",
    "print(\"Numero de noticias total: \",n_noticias_total)\n",
    "print(\"Numero de noticias: \", n_noticias)"
   ]
  },
  {
   "cell_type": "markdown",
   "id": "73e6a4a6-bf0a-494b-8047-546cf4e5bc4d",
   "metadata": {},
   "source": [
    "### Extrair as noticias mais populares"
   ]
  },
  {
   "cell_type": "code",
   "execution_count": 41,
   "id": "82a796f8-3fc9-4a48-8def-c82ee28953d1",
   "metadata": {
    "tags": []
   },
   "outputs": [
    {
     "data": {
      "text/html": [
       "<div>\n",
       "<style scoped>\n",
       "    .dataframe tbody tr th:only-of-type {\n",
       "        vertical-align: middle;\n",
       "    }\n",
       "\n",
       "    .dataframe tbody tr th {\n",
       "        vertical-align: top;\n",
       "    }\n",
       "\n",
       "    .dataframe thead th {\n",
       "        text-align: right;\n",
       "    }\n",
       "</style>\n",
       "<table border=\"1\" class=\"dataframe\">\n",
       "  <thead>\n",
       "    <tr style=\"text-align: right;\">\n",
       "      <th></th>\n",
       "      <th>interactions</th>\n",
       "    </tr>\n",
       "    <tr>\n",
       "      <th>itemId</th>\n",
       "      <th></th>\n",
       "    </tr>\n",
       "  </thead>\n",
       "  <tbody>\n",
       "    <tr>\n",
       "      <th>100</th>\n",
       "      <td>3</td>\n",
       "    </tr>\n",
       "    <tr>\n",
       "      <th>1000</th>\n",
       "      <td>2</td>\n",
       "    </tr>\n",
       "    <tr>\n",
       "      <th>10000</th>\n",
       "      <td>1</td>\n",
       "    </tr>\n",
       "    <tr>\n",
       "      <th>10004</th>\n",
       "      <td>2</td>\n",
       "    </tr>\n",
       "    <tr>\n",
       "      <th>1001</th>\n",
       "      <td>1</td>\n",
       "    </tr>\n",
       "  </tbody>\n",
       "</table>\n",
       "</div>"
      ],
      "text/plain": [
       "        interactions\n",
       "itemId              \n",
       "100                3\n",
       "1000               2\n",
       "10000              1\n",
       "10004              2\n",
       "1001               1"
      ]
     },
     "execution_count": 41,
     "metadata": {},
     "output_type": "execute_result"
    }
   ],
   "source": [
    "soma_interacoes_por_noticia = train_df.groupby('itemId').count()[['rating']]\n",
    "soma_interacoes_por_noticia.columns = ['interactions']\n",
    "\n",
    "map_soma = soma_interacoes_por_noticia.to_dict()['interactions']\n",
    "\n",
    "soma_interacoes_por_noticia.head(5)"
   ]
  },
  {
   "cell_type": "code",
   "execution_count": 43,
   "id": "5f518a2c-ea11-4bd9-affc-f6e899e22d87",
   "metadata": {
    "tags": []
   },
   "outputs": [
    {
     "data": {
      "text/html": [
       "<div>\n",
       "<style scoped>\n",
       "    .dataframe tbody tr th:only-of-type {\n",
       "        vertical-align: middle;\n",
       "    }\n",
       "\n",
       "    .dataframe tbody tr th {\n",
       "        vertical-align: top;\n",
       "    }\n",
       "\n",
       "    .dataframe thead th {\n",
       "        text-align: right;\n",
       "    }\n",
       "</style>\n",
       "<table border=\"1\" class=\"dataframe\">\n",
       "  <thead>\n",
       "    <tr style=\"text-align: right;\">\n",
       "      <th></th>\n",
       "      <th>interactions</th>\n",
       "    </tr>\n",
       "    <tr>\n",
       "      <th>itemId</th>\n",
       "      <th></th>\n",
       "    </tr>\n",
       "  </thead>\n",
       "  <tbody>\n",
       "    <tr>\n",
       "      <th>306</th>\n",
       "      <td>1611</td>\n",
       "    </tr>\n",
       "    <tr>\n",
       "      <th>42620</th>\n",
       "      <td>1466</td>\n",
       "    </tr>\n",
       "    <tr>\n",
       "      <th>47020</th>\n",
       "      <td>1257</td>\n",
       "    </tr>\n",
       "    <tr>\n",
       "      <th>45794</th>\n",
       "      <td>1254</td>\n",
       "    </tr>\n",
       "    <tr>\n",
       "      <th>31801</th>\n",
       "      <td>1216</td>\n",
       "    </tr>\n",
       "  </tbody>\n",
       "</table>\n",
       "</div>"
      ],
      "text/plain": [
       "        interactions\n",
       "itemId              \n",
       "306             1611\n",
       "42620           1466\n",
       "47020           1257\n",
       "45794           1254\n",
       "31801           1216"
      ]
     },
     "execution_count": 43,
     "metadata": {},
     "output_type": "execute_result"
    }
   ],
   "source": [
    "soma_interacoes_por_noticia_ordenado = soma_interacoes_por_noticia.sort_values('interactions', ascending=False)\n",
    "\n",
    "map_id = dict(list(enumerate(soma_interacoes_por_noticia_ordenado.index)))\n",
    "map_id = {v:k for k,v in map_id.items()}\n",
    "\n",
    "\n",
    "soma_interacoes_por_noticia_ordenado.head(5)"
   ]
  },
  {
   "cell_type": "markdown",
   "id": "93008cba-6604-40eb-bd8a-f656f98978f4",
   "metadata": {},
   "source": [
    "### 3.2 A Long Tail Curve\n",
    "##### Um conceito fundamental em sistemas de recomendação é a Cauda Longa (Long Tail Curve).\n"
   ]
  },
  {
   "cell_type": "code",
   "execution_count": 45,
   "id": "4279a478-89ed-42c4-8849-9d3326eb4305",
   "metadata": {
    "tags": []
   },
   "outputs": [
    {
     "data": {
      "image/png": "[encoded data removed]",
      "text/plain": [
       "<Figure size 1200x800 with 1 Axes>"
      ]
     },
     "metadata": {},
     "output_type": "display_data"
    }
   ],
   "source": [
    "plt.figure(figsize=(12, 8))\n",
    "sns.lineplot(\n",
    "    x = [i for i in range(len(soma_interacoes_por_noticia_ordenado))],\n",
    "    y = soma_interacoes_por_noticia_ordenado['interactions']\n",
    ")\n",
    "plt.grid()"
   ]
  },
  {
   "cell_type": "code",
   "execution_count": null,
   "id": "80227fda-502f-4d8f-b1e6-36fa05488fef",
   "metadata": {},
   "outputs": [],
   "source": [
    "#using surprise "
   ]
  },
  {
   "cell_type": "code",
   "execution_count": 49,
   "id": "4e384fc6-c0e9-4a4f-b9b4-d0bfe808554c",
   "metadata": {
    "tags": []
   },
   "outputs": [
    {
     "name": "stdout",
     "output_type": "stream",
     "text": [
      "Computing the cosine similarity matrix...\n",
      "Done computing similarity matrix.\n"
     ]
    },
    {
     "data": {
      "text/plain": [
       "<surprise.prediction_algorithms.knns.KNNBasic at 0x7feebc8bddf0>"
      ]
     },
     "execution_count": 49,
     "metadata": {},
     "output_type": "execute_result"
    }
   ],
   "source": [
    "from surprise import Reader, Dataset\n",
    "from surprise.prediction_algorithms.knns import KNNBasic\n",
    "from surprise.prediction_algorithms.slope_one import SlopeOne\n",
    "\n",
    "# Define the rating scale for the Reader\n",
    "reader = Reader(rating_scale=(0, 1))\n",
    "\n",
    "# Load the training set from the DataFrame\n",
    "trainset = Dataset.load_from_df(\n",
    "    train_df[[\"userId\", \"itemId\",'rating']], reader=reader\n",
    ").build_full_trainset()\n",
    "\n",
    "# Initialize the KNN model with cosine similarity\n",
    "userknn = KNNBasic(K=10, sim_options={\"user_based\": True, \"name\": \"cosine\"})\n",
    "\n",
    "# Fit the model on the trainset\n",
    "userknn.fit(trainset)\n"
   ]
  },
  {
   "cell_type": "code",
   "execution_count": 50,
   "id": "ce125b89-c248-4fb7-abcd-df2610a08a7f",
   "metadata": {
    "tags": []
   },
   "outputs": [
    {
     "data": {
      "text/plain": [
       "100371"
      ]
     },
     "execution_count": 50,
     "metadata": {},
     "output_type": "execute_result"
    }
   ],
   "source": [
    "len(test_df)"
   ]
  },
  {
   "cell_type": "code",
   "execution_count": 51,
   "id": "6ae5fa77-1649-45d7-aac5-293b1c1b8013",
   "metadata": {
    "tags": []
   },
   "outputs": [],
   "source": [
    "import tqdm  # Import tqdm directly"
   ]
  },
  {
   "cell_type": "code",
   "execution_count": 60,
   "id": "7a0c6b70-d991-4671-82bd-29928f71c6e4",
   "metadata": {
    "tags": []
   },
   "outputs": [
    {
     "name": "stderr",
     "output_type": "stream",
     "text": [
      "100%|██████████| 1000/1000 [05:13<00:00,  3.19it/s]\n"
     ]
    }
   ],
   "source": [
    "new_predictions = []\n",
    "prediction_user_map = {}\n",
    "data_p2 = []\n",
    "\n",
    "for user in tqdm.tqdm(test_df['userId'].unique()[:1000]):\n",
    "    data = {\"itemId\": list(set(df[\"itemId\"].unique()))}\n",
    "    user_testset_df = pd.DataFrame(data)\n",
    "    user_testset_df[\"rating\"] = 0.0\n",
    "    user_testset_df[\"userId\"] = user\n",
    "    \n",
    "    testset = (\n",
    "        Dataset.load_from_df(\n",
    "            user_testset_df[[\"userId\", \"itemId\", \"rating\"]],\n",
    "            reader=reader,\n",
    "        )\n",
    "        .build_full_trainset()\n",
    "        .build_testset()\n",
    "    )\n",
    "    predictions = sorted(\n",
    "        [(pred.iid, pred.est)for pred in userknn.test(testset) if ((pred.uid == user))],\n",
    "        key=lambda x: x[1],reverse=True\n",
    "    )\n",
    "    new_predictions.append(predictions[:10])\n",
    "    prediction_user_map[user] = predictions[:10]\n",
    "    \n",
    "    for j in predictions[:10]:\n",
    "        if j[0] in map_id:\n",
    "            data_p2.append(map_id[j[0]])\n",
    "    "
   ]
  },
  {
   "cell_type": "code",
   "execution_count": 61,
   "id": "1de0ab1f-5235-408f-8cd0-778b5b4279cb",
   "metadata": {
    "tags": []
   },
   "outputs": [
    {
     "data": {
      "text/plain": [
       "Text(0.5, 0, 'ID Noticia')"
      ]
     },
     "execution_count": 61,
     "metadata": {},
     "output_type": "execute_result"
    },
    {
     "data": {
      "image/png": "[encoded data removed]",
      "text/plain": [
       "<Figure size 1200x800 with 2 Axes>"
      ]
     },
     "metadata": {},
     "output_type": "display_data"
    }
   ],
   "source": [
    "import seaborn as sns\n",
    "from matplotlib import pyplot as plt\n",
    "\n",
    "plt.figure(figsize=(12, 8))\n",
    "\n",
    "g = sns.histplot(\n",
    "    x = data_p2,color='red', alpha=0.4\n",
    ")\n",
    "plt.ylabel(\"Frequencia da Recomendação (Vermelho)\")\n",
    "plt.xlabel(\"ID Noticia\")\n",
    "ax2 = g.twinx()\n",
    "\n",
    "plt.ylabel(\"Quantidade de Interações (Azul)\")\n",
    "sns.lineplot(\n",
    "    x = [i for i in range(len(df['itemId'].unique()))],\n",
    "    y=df.groupby('itemId').count().sort_values('rating', ascending=False)['rating'], ax=ax2,\n",
    "    color='blue',linewidth = 4, alpha=0.5\n",
    ")\n",
    "plt.grid()\n",
    "plt.xlabel(\"ID Noticia\")"
   ]
  },
  {
   "cell_type": "code",
   "execution_count": null,
   "id": "f2e669bc-ea21-4dbf-9157-5e7d57f9aac7",
   "metadata": {},
   "outputs": [],
   "source": []
  },
  {
   "cell_type": "code",
   "execution_count": null,
   "id": "362370dd-a633-48cc-813f-b07a2d3f72ad",
   "metadata": {},
   "outputs": [],
   "source": []
  }
 ],
 "metadata": {
  "kernelspec": {
   "display_name": "Python 3 (ipykernel)",
   "language": "python",
   "name": "python3"
  },
  "language_info": {
   "codemirror_mode": {
    "name": "ipython",
    "version": 3
   },
   "file_extension": ".py",
   "mimetype": "text/x-python",
   "name": "python",
   "nbconvert_exporter": "python",
   "pygments_lexer": "ipython3",
   "version": "3.9.19"
  }
 },
 "nbformat": 4,
 "nbformat_minor": 5
}
