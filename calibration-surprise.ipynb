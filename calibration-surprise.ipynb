{
 "cells": [
  {
   "cell_type": "code",
   "execution_count": 1,
   "id": "f4c5cd5e-3843-4537-a626-c3f7b6e996f2",
   "metadata": {
    "tags": []
   },
   "outputs": [],
   "source": [
    "import pandas as pd\n",
    "import numpy as np\n",
    "import matplotlib.pyplot as plt\n",
    "import seaborn as sns\n",
    "from sklearn.model_selection import train_test_split"
   ]
  },
  {
   "cell_type": "markdown",
   "id": "e4f5a131-2ab6-4dab-8dce-838dd5676332",
   "metadata": {
    "tags": []
   },
   "source": [
    "## 1. Functions that we will use in the next steps"
   ]
  },
  {
   "cell_type": "code",
   "execution_count": 119,
   "id": "3d3d7e37-4cef-44a5-b0cf-40a11f9e0a4c",
   "metadata": {
    "tags": []
   },
   "outputs": [],
   "source": [
    "#get profile distribution\n",
    "def get_user_profile_distribution(df, user):\n",
    "    user_profile_distribution = {}\n",
    "    n = 0\n",
    "    for item in df[df['userId'] == user]['itemId'].values:\n",
    "\n",
    "        for genre in genre_map[item]:\n",
    "            if genre not in user_profile_distribution:\n",
    "                user_profile_distribution[genre] = 0\n",
    "            n += 1\n",
    "            user_profile_distribution[genre] += 1\n",
    "            \n",
    "    user_profile_distribution = {k: v/n for k, v in sorted(user_profile_distribution.items(), key=lambda item: item[1])}\n",
    "    return user_profile_distribution"
   ]
  },
  {
   "cell_type": "code",
   "execution_count": 121,
   "id": "7faddd0e-e7af-4fd0-92b6-946a64298be3",
   "metadata": {
    "tags": []
   },
   "outputs": [],
   "source": [
    "#get distribution of the recomendation\n",
    "def get_user_recommendation_distribution(prediction_user_map):\n",
    "    user_rec_distribution = {}\n",
    "    n = 0\n",
    "    for (item, score) in prediction_user_map:\n",
    "        for genre in genre_map[item]:\n",
    "            if genre not in user_rec_distribution:\n",
    "                user_rec_distribution[genre] = 0\n",
    "            n += 1\n",
    "            user_rec_distribution[genre] += 1\n",
    "            \n",
    "    user_rec_distribution = {k: v/n for k, v in sorted(user_rec_distribution.items(), key=lambda item: item[1])}\n",
    "    return user_rec_distribution"
   ]
  },
  {
   "cell_type": "code",
   "execution_count": 123,
   "id": "a997e831-8c15-43cf-8f1b-71d70dd434bd",
   "metadata": {
    "tags": []
   },
   "outputs": [],
   "source": [
    "#metrica para medir cuan injusto fueron las recomendaciones respecto del perfil del usuario\n",
    "def user_rank_miscalibration(user_profile_dist, rec_profile_dist, alpha=0.001):\n",
    "    p_g_u = user_profile_dist\n",
    "    q_g_u = rec_profile_dist\n",
    "    \n",
    "    Ckl = 0\n",
    "    for genre, p in p_g_u.items():\n",
    "        q = q_g_u.get(genre, 0.0)\n",
    "        til_q = (1 - alpha) * q + alpha * p\n",
    "\n",
    "        if til_q == 0 or p_g_u.get(genre, 0) == 0:\n",
    "            Ckl = Ckl\n",
    "        else:\n",
    "            Ckl += p * np.log2(p / til_q)\n",
    "    return Ckl\n",
    "\n",
    "def get_mean_rank_miscalibration(predictions):\n",
    "    \n",
    "    MRMC = 0\n",
    "    \n",
    "    for user in predictions:\n",
    "        RMC = 0\n",
    "        user_profile_dist = get_user_profile_distribution(train_df, user)\n",
    "        if user_profile_dist == {}:\n",
    "            continue\n",
    "        \n",
    "        void = user_rank_miscalibration(user_profile_dist, {})\n",
    "        N = len(predictions[user])\n",
    "        for i in range(1, N):\n",
    "            user_rec_dist = get_user_recommendation_distribution(predictions[user][:i])\n",
    "            kl = user_rank_miscalibration(user_profile_dist, user_rec_dist)\n",
    "            RMC += kl/void\n",
    "\n",
    "        MRMC += RMC/N\n",
    "    \n",
    "    return MRMC/len(predictions)"
   ]
  },
  {
   "cell_type": "code",
   "execution_count": 125,
   "id": "b731febd-5cda-4ce5-803c-57d1acded0cf",
   "metadata": {
    "tags": []
   },
   "outputs": [],
   "source": [
    "#metricas para avaliar\n",
    "def item_is_relevant(userId, itemId):\n",
    "    aux = train_df[train_df[\"userId\"] == userId]\n",
    "    if itemId in list(aux['itemId']):\n",
    "        return True\n",
    "    return False\n",
    "\n",
    "def calculate_MRR(map_recommendations):\n",
    "\n",
    "    MRR = 0\n",
    "    for userId in map_recommendations:\n",
    "        user_find_corerect_item = False\n",
    "        for index, (itemId, score) in enumerate(map_recommendations[userId]):\n",
    "            if user_find_corerect_item is False:\n",
    "                if item_is_relevant(userId, itemId):\n",
    "                    MRR += (1/(index+1))\n",
    "                    user_find_corerect_item = True\n",
    "        \n",
    "    return MRR/len(map_recommendations)\n"
   ]
  },
  {
   "cell_type": "code",
   "execution_count": 127,
   "id": "b3d338ca-7688-413b-8ce4-629e0e5a6dd0",
   "metadata": {
    "tags": []
   },
   "outputs": [],
   "source": [
    "#funciones para calcuar la calibracion\n",
    "def calculate_calibration_sum(profile_dist, temporary_list_with_score, user, alpha=0.001):\n",
    "    kl_div = 0.0\n",
    "    reco_distr = get_user_recommendation_distribution(temporary_list_with_score)\n",
    "    for genre, p in profile_dist.items():\n",
    "        q = reco_distr.get(genre, 0.0)\n",
    "        til_q = (1 - alpha) * q + alpha * p\n",
    "\n",
    "        if p == 0.0 or til_q == 0.0:\n",
    "            kl_div = kl_div\n",
    "        else:\n",
    "            kl_div = kl_div + (p * np.log2(p / til_q))\n",
    "    return kl_div\n",
    "\n",
    "\n",
    "def rerank_recommendation(profile_dist, list_recomended_items, user, N, tradeoff):\n",
    "    re_ranked_list = []\n",
    "    re_ranked_with_score = []\n",
    "    \n",
    "    for _ in range(N):\n",
    "        \n",
    "        max_mmr = -np.inf\n",
    "        max_item = None\n",
    "        max_item_rating = None\n",
    "        \n",
    "        for item, rating in list_recomended_items:\n",
    "            if item in re_ranked_list:\n",
    "                continue\n",
    "                \n",
    "            temporary_list = re_ranked_list + [item]\n",
    "            temporary_list_with_score = re_ranked_with_score + [(item, rating)]\n",
    "                \n",
    "            weight_part = sum(\n",
    "                recomendation[1]\n",
    "                for recomendation in temporary_list_with_score\n",
    "            )\n",
    "            \n",
    "            full_tmp_calib = calculate_calibration_sum(\n",
    "                profile_dist,\n",
    "                temporary_list_with_score,\n",
    "                user\n",
    "            )\n",
    "            \n",
    "            maximized = (1 - tradeoff)*weight_part - tradeoff*full_tmp_calib\n",
    "            \n",
    "            if maximized > max_mmr:\n",
    "                max_mmr = maximized\n",
    "                max_item = item\n",
    "                max_item_rating = rating\n",
    "            \n",
    "        if max_item is not None:\n",
    "            re_ranked_list.append(max_item)\n",
    "            re_ranked_with_score.append((max_item, max_item_rating))\n",
    "            \n",
    "    return re_ranked_list, re_ranked_with_score "
   ]
  },
  {
   "cell_type": "markdown",
   "id": "c14ac838-3758-4cd4-be73-f1a88cb26158",
   "metadata": {
    "tags": []
   },
   "source": [
    "## 2. Loading Data"
   ]
  },
  {
   "cell_type": "code",
   "execution_count": 3,
   "id": "6a251293-dfc3-4609-8761-9e68ca0121b6",
   "metadata": {
    "tags": []
   },
   "outputs": [],
   "source": [
    "column_n = ['itemId', 'category', 'subcategory', 'title', 'abstract', 'url', 'TitleEnt', 'AbstractEnt']\n",
    "column_b = ['ImpressionId', 'userId', 'timestamps', 'history', 'impressions']\n",
    "news_df  = pd.read_csv('data/news.tsv', sep='\\t', header=None, names=column_n)\n",
    "behaviors_df= pd.read_csv('data/behaviors.tsv', sep='\\t', header=None, names=column_b)"
   ]
  },
  {
   "cell_type": "code",
   "execution_count": 5,
   "id": "8b229f2c-67b1-48d0-b35d-750d2b201c07",
   "metadata": {
    "tags": []
   },
   "outputs": [],
   "source": [
    "sample_behaviors_df = behaviors_df.sample(frac=0.10, random_state=42)"
   ]
  },
  {
   "cell_type": "code",
   "execution_count": 7,
   "id": "845f02e0-ec7e-4598-be03-5a33440cceb4",
   "metadata": {
    "tags": []
   },
   "outputs": [],
   "source": [
    "sample_behaviors_df  = sample_behaviors_df [['userId', 'history', 'timestamps']]\n"
   ]
  },
  {
   "cell_type": "code",
   "execution_count": 9,
   "id": "cbe8f4c0-d338-474d-b551-1a9de72245fc",
   "metadata": {
    "tags": []
   },
   "outputs": [
    {
     "data": {
      "text/html": [
       "<div>\n",
       "<style scoped>\n",
       "    .dataframe tbody tr th:only-of-type {\n",
       "        vertical-align: middle;\n",
       "    }\n",
       "\n",
       "    .dataframe tbody tr th {\n",
       "        vertical-align: top;\n",
       "    }\n",
       "\n",
       "    .dataframe thead th {\n",
       "        text-align: right;\n",
       "    }\n",
       "</style>\n",
       "<table border=\"1\" class=\"dataframe\">\n",
       "  <thead>\n",
       "    <tr style=\"text-align: right;\">\n",
       "      <th></th>\n",
       "      <th>userId</th>\n",
       "      <th>history</th>\n",
       "      <th>timestamps</th>\n",
       "    </tr>\n",
       "  </thead>\n",
       "  <tbody>\n",
       "    <tr>\n",
       "      <th>78833</th>\n",
       "      <td>U46778</td>\n",
       "      <td>N17157 N28081 N58641 N3926 N16290 N11894 N6185...</td>\n",
       "      <td>11/12/2019 6:57:31 PM</td>\n",
       "    </tr>\n",
       "    <tr>\n",
       "      <th>119940</th>\n",
       "      <td>U19033</td>\n",
       "      <td>N1150 N53234 N45794 N11005 N55556</td>\n",
       "      <td>11/14/2019 12:43:30 PM</td>\n",
       "    </tr>\n",
       "    <tr>\n",
       "      <th>105873</th>\n",
       "      <td>U30</td>\n",
       "      <td>N58642 N65000 N871 N24778 N11101 N9798 N54827 ...</td>\n",
       "      <td>11/9/2019 8:40:24 AM</td>\n",
       "    </tr>\n",
       "  </tbody>\n",
       "</table>\n",
       "</div>"
      ],
      "text/plain": [
       "        userId                                            history  \\\n",
       "78833   U46778  N17157 N28081 N58641 N3926 N16290 N11894 N6185...   \n",
       "119940  U19033                  N1150 N53234 N45794 N11005 N55556   \n",
       "105873     U30  N58642 N65000 N871 N24778 N11101 N9798 N54827 ...   \n",
       "\n",
       "                    timestamps  \n",
       "78833    11/12/2019 6:57:31 PM  \n",
       "119940  11/14/2019 12:43:30 PM  \n",
       "105873    11/9/2019 8:40:24 AM  "
      ]
     },
     "execution_count": 9,
     "metadata": {},
     "output_type": "execute_result"
    }
   ],
   "source": [
    "sample_behaviors_df.head(3)"
   ]
  },
  {
   "cell_type": "code",
   "execution_count": 11,
   "id": "f8bd4742-b815-4efb-b183-441817efb52b",
   "metadata": {
    "tags": []
   },
   "outputs": [
    {
     "name": "stdout",
     "output_type": "stream",
     "text": [
      "<class 'pandas.core.frame.DataFrame'>\n",
      "Int64Index: 15696 entries, 78833 to 35313\n",
      "Data columns (total 3 columns):\n",
      " #   Column      Non-Null Count  Dtype \n",
      "---  ------      --------------  ----- \n",
      " 0   userId      15696 non-null  object\n",
      " 1   history     15388 non-null  object\n",
      " 2   timestamps  15696 non-null  object\n",
      "dtypes: object(3)\n",
      "memory usage: 490.5+ KB\n"
     ]
    }
   ],
   "source": [
    "sample_behaviors_df.info()"
   ]
  },
  {
   "cell_type": "markdown",
   "id": "5f27a079-94ea-4e1c-9787-2606ad9aa336",
   "metadata": {
    "tags": []
   },
   "source": [
    "## 3. Data Preprocessing "
   ]
  },
  {
   "cell_type": "code",
   "execution_count": 13,
   "id": "2ae840da-2f9f-4234-a11e-41c70794a87f",
   "metadata": {
    "tags": []
   },
   "outputs": [],
   "source": [
    "# Delete users who don't have history     \n",
    "sample_behaviors_df = sample_behaviors_df[sample_behaviors_df['history'].notna() & (sample_behaviors_df['history'] != '')]"
   ]
  },
  {
   "cell_type": "code",
   "execution_count": 15,
   "id": "e2eaf8b2-e87a-436c-a637-896d1b44286b",
   "metadata": {
    "tags": []
   },
   "outputs": [],
   "source": [
    "# Delete news when don't title and abstract\n",
    "news_df = news_df.dropna(subset=['title', 'abstract'])"
   ]
  },
  {
   "cell_type": "code",
   "execution_count": 17,
   "id": "3a64bf0c-8624-4369-acf5-e426140d91d9",
   "metadata": {
    "tags": []
   },
   "outputs": [],
   "source": [
    "# Remove 'U' prefix from 'user' and 'N' prefix from 'item'\n",
    "sample_behaviors_df['userId'] = sample_behaviors_df['userId'].str.replace('U', '', regex=False)\n",
    "news_df['itemId'] = news_df['itemId'].str.replace('N', '', regex=False)"
   ]
  },
  {
   "cell_type": "markdown",
   "id": "493becd3-85b9-415c-8f38-e91e19ca8950",
   "metadata": {
    "tags": []
   },
   "source": [
    "## 4. Split in train and test the sample behaviors"
   ]
  },
  {
   "cell_type": "code",
   "execution_count": 19,
   "id": "6fe37cd0-7f1e-4004-9791-efd020fcd80e",
   "metadata": {
    "tags": []
   },
   "outputs": [],
   "source": [
    "# Split behaviors_df into 80% training and 20% testing\n",
    "train_behaviors, test_behaviors = train_test_split(sample_behaviors_df, test_size=0.2, random_state=42)"
   ]
  },
  {
   "cell_type": "code",
   "execution_count": 21,
   "id": "bf02b83c-51fb-4501-b283-e91cbaf7ebb2",
   "metadata": {
    "tags": []
   },
   "outputs": [],
   "source": [
    "# Prepare train.dat\n",
    "train_data = []\n",
    "for _, row in train_behaviors.iterrows():\n",
    "    user_id = row['userId']\n",
    "    history_items = row['history'].split()  # Assuming history items are space-separated\n",
    "    for item in history_items:\n",
    "        train_data.append([user_id, item,1.0])  # Assign a binary rating of 1.0\n",
    "\n",
    "train_df = pd.DataFrame(train_data, columns=['userId', 'itemId','rating'])\n",
    "\n",
    "# Prepare test.dat\n",
    "test_data = []\n",
    "for _, row in test_behaviors.iterrows():\n",
    "    user_id = row['userId']\n",
    "    history_items = row['history'].split()\n",
    "    for item in history_items:\n",
    "        test_data.append([user_id, item,1.0])  # Assign a binary rating of 1.0\n",
    "\n",
    "test_df = pd.DataFrame(test_data, columns=['userId', 'itemId', 'rating'])"
   ]
  },
  {
   "cell_type": "markdown",
   "id": "1eb1a05a-8e0b-413f-afe2-a0c79a0d566e",
   "metadata": {},
   "source": [
    "## 5. Mapping  Users and categories of news"
   ]
  },
  {
   "cell_type": "code",
   "execution_count": 23,
   "id": "12b5cc2b-033a-4add-bf3c-5cb2d6534e7b",
   "metadata": {
    "tags": []
   },
   "outputs": [],
   "source": [
    "train_df['itemId'] = train_df['itemId'].str.replace('N', '', regex=False)\n",
    "test_df['itemId'] = test_df['itemId'].str.replace('N', '', regex=False)"
   ]
  },
  {
   "cell_type": "code",
   "execution_count": 25,
   "id": "072476c5-d9d8-46a4-89d0-3b6292a81e33",
   "metadata": {
    "tags": []
   },
   "outputs": [],
   "source": [
    "combined_df = pd.concat([train_df,test_df], axis=0, ignore_index=True)"
   ]
  },
  {
   "cell_type": "code",
   "execution_count": 27,
   "id": "f880f2e5-5566-4f3d-8894-5dd750d0cb50",
   "metadata": {
    "tags": []
   },
   "outputs": [
    {
     "name": "stdout",
     "output_type": "stream",
     "text": [
      "<class 'pandas.core.frame.DataFrame'>\n",
      "RangeIndex: 501986 entries, 0 to 501985\n",
      "Data columns (total 3 columns):\n",
      " #   Column  Non-Null Count   Dtype  \n",
      "---  ------  --------------   -----  \n",
      " 0   userId  501986 non-null  object \n",
      " 1   itemId  501986 non-null  object \n",
      " 2   rating  501986 non-null  float64\n",
      "dtypes: float64(1), object(2)\n",
      "memory usage: 11.5+ MB\n"
     ]
    }
   ],
   "source": [
    "combined_df.info()"
   ]
  },
  {
   "cell_type": "code",
   "execution_count": 29,
   "id": "f788b500-25af-4d28-8cf7-1bc6288a9adf",
   "metadata": {
    "tags": []
   },
   "outputs": [
    {
     "name": "stdout",
     "output_type": "stream",
     "text": [
      "<class 'pandas.core.frame.DataFrame'>\n",
      "Int64Index: 48616 entries, 0 to 51280\n",
      "Data columns (total 8 columns):\n",
      " #   Column       Non-Null Count  Dtype \n",
      "---  ------       --------------  ----- \n",
      " 0   itemId       48616 non-null  object\n",
      " 1   category     48616 non-null  object\n",
      " 2   subcategory  48616 non-null  object\n",
      " 3   title        48616 non-null  object\n",
      " 4   abstract     48616 non-null  object\n",
      " 5   url          48616 non-null  object\n",
      " 6   TitleEnt     48613 non-null  object\n",
      " 7   AbstractEnt  48612 non-null  object\n",
      "dtypes: object(8)\n",
      "memory usage: 3.3+ MB\n"
     ]
    }
   ],
   "source": [
    "news_df.info()"
   ]
  },
  {
   "cell_type": "code",
   "execution_count": 31,
   "id": "a8107035-f6ef-404d-8904-d44e78ed6dc1",
   "metadata": {
    "tags": []
   },
   "outputs": [],
   "source": [
    "news_df['itemId'] = news_df['itemId'].astype('object')\n",
    "item_categories = news_df[['itemId', 'category']].drop_duplicates()"
   ]
  },
  {
   "cell_type": "code",
   "execution_count": 33,
   "id": "23179361-3303-434f-bf7a-18517bb3a301",
   "metadata": {
    "tags": []
   },
   "outputs": [],
   "source": [
    "unique_rows = combined_df.drop_duplicates(subset='itemId')"
   ]
  },
  {
   "cell_type": "code",
   "execution_count": 35,
   "id": "bb93afed-d013-4372-a918-260d45c2c5dc",
   "metadata": {
    "tags": []
   },
   "outputs": [
    {
     "data": {
      "text/html": [
       "<div>\n",
       "<style scoped>\n",
       "    .dataframe tbody tr th:only-of-type {\n",
       "        vertical-align: middle;\n",
       "    }\n",
       "\n",
       "    .dataframe tbody tr th {\n",
       "        vertical-align: top;\n",
       "    }\n",
       "\n",
       "    .dataframe thead th {\n",
       "        text-align: right;\n",
       "    }\n",
       "</style>\n",
       "<table border=\"1\" class=\"dataframe\">\n",
       "  <thead>\n",
       "    <tr style=\"text-align: right;\">\n",
       "      <th></th>\n",
       "      <th>itemId</th>\n",
       "    </tr>\n",
       "  </thead>\n",
       "  <tbody>\n",
       "    <tr>\n",
       "      <th>0</th>\n",
       "      <td>60615</td>\n",
       "    </tr>\n",
       "    <tr>\n",
       "      <th>1</th>\n",
       "      <td>59742</td>\n",
       "    </tr>\n",
       "    <tr>\n",
       "      <th>2</th>\n",
       "      <td>16545</td>\n",
       "    </tr>\n",
       "    <tr>\n",
       "      <th>3</th>\n",
       "      <td>47558</td>\n",
       "    </tr>\n",
       "    <tr>\n",
       "      <th>4</th>\n",
       "      <td>1150</td>\n",
       "    </tr>\n",
       "    <tr>\n",
       "      <th>...</th>\n",
       "      <td>...</td>\n",
       "    </tr>\n",
       "    <tr>\n",
       "      <th>501005</th>\n",
       "      <td>49206</td>\n",
       "    </tr>\n",
       "    <tr>\n",
       "      <th>501025</th>\n",
       "      <td>18161</td>\n",
       "    </tr>\n",
       "    <tr>\n",
       "      <th>501027</th>\n",
       "      <td>58174</td>\n",
       "    </tr>\n",
       "    <tr>\n",
       "      <th>501453</th>\n",
       "      <td>5159</td>\n",
       "    </tr>\n",
       "    <tr>\n",
       "      <th>501684</th>\n",
       "      <td>61588</td>\n",
       "    </tr>\n",
       "  </tbody>\n",
       "</table>\n",
       "<p>22980 rows × 1 columns</p>\n",
       "</div>"
      ],
      "text/plain": [
       "       itemId\n",
       "0       60615\n",
       "1       59742\n",
       "2       16545\n",
       "3       47558\n",
       "4        1150\n",
       "...       ...\n",
       "501005  49206\n",
       "501025  18161\n",
       "501027  58174\n",
       "501453   5159\n",
       "501684  61588\n",
       "\n",
       "[22980 rows x 1 columns]"
      ]
     },
     "execution_count": 35,
     "metadata": {},
     "output_type": "execute_result"
    }
   ],
   "source": [
    "itemId_df = unique_rows[['itemId']]\n",
    "\n",
    "itemId_df"
   ]
  },
  {
   "cell_type": "code",
   "execution_count": 37,
   "id": "0d1c6dc9-7978-4ab0-950a-45b54e6acdf1",
   "metadata": {
    "tags": []
   },
   "outputs": [
    {
     "name": "stdout",
     "output_type": "stream",
     "text": [
      "<class 'pandas.core.frame.DataFrame'>\n",
      "Int64Index: 22980 entries, 0 to 501684\n",
      "Data columns (total 1 columns):\n",
      " #   Column  Non-Null Count  Dtype \n",
      "---  ------  --------------  ----- \n",
      " 0   itemId  22980 non-null  object\n",
      "dtypes: object(1)\n",
      "memory usage: 359.1+ KB\n"
     ]
    }
   ],
   "source": [
    "itemId_df.info()"
   ]
  },
  {
   "cell_type": "code",
   "execution_count": 39,
   "id": "669544e6-1b41-43aa-ae35-7cc530be70b6",
   "metadata": {
    "tags": []
   },
   "outputs": [],
   "source": [
    "item_with_category = itemId_df.merge(\n",
    "    item_categories[['itemId', 'category']], \n",
    "    on='itemId', \n",
    "    how='left'\n",
    ")"
   ]
  },
  {
   "cell_type": "code",
   "execution_count": 41,
   "id": "d8c684c3-43b4-4ffe-9885-f25e126d7104",
   "metadata": {
    "tags": []
   },
   "outputs": [
    {
     "data": {
      "text/html": [
       "<div>\n",
       "<style scoped>\n",
       "    .dataframe tbody tr th:only-of-type {\n",
       "        vertical-align: middle;\n",
       "    }\n",
       "\n",
       "    .dataframe tbody tr th {\n",
       "        vertical-align: top;\n",
       "    }\n",
       "\n",
       "    .dataframe thead th {\n",
       "        text-align: right;\n",
       "    }\n",
       "</style>\n",
       "<table border=\"1\" class=\"dataframe\">\n",
       "  <thead>\n",
       "    <tr style=\"text-align: right;\">\n",
       "      <th></th>\n",
       "      <th>itemId</th>\n",
       "      <th>category</th>\n",
       "    </tr>\n",
       "  </thead>\n",
       "  <tbody>\n",
       "    <tr>\n",
       "      <th>0</th>\n",
       "      <td>60615</td>\n",
       "      <td>news</td>\n",
       "    </tr>\n",
       "    <tr>\n",
       "      <th>1</th>\n",
       "      <td>59742</td>\n",
       "      <td>tv</td>\n",
       "    </tr>\n",
       "    <tr>\n",
       "      <th>2</th>\n",
       "      <td>16545</td>\n",
       "      <td>movies</td>\n",
       "    </tr>\n",
       "    <tr>\n",
       "      <th>3</th>\n",
       "      <td>47558</td>\n",
       "      <td>health</td>\n",
       "    </tr>\n",
       "    <tr>\n",
       "      <th>4</th>\n",
       "      <td>1150</td>\n",
       "      <td>news</td>\n",
       "    </tr>\n",
       "    <tr>\n",
       "      <th>...</th>\n",
       "      <td>...</td>\n",
       "      <td>...</td>\n",
       "    </tr>\n",
       "    <tr>\n",
       "      <th>22975</th>\n",
       "      <td>49206</td>\n",
       "      <td>sports</td>\n",
       "    </tr>\n",
       "    <tr>\n",
       "      <th>22976</th>\n",
       "      <td>18161</td>\n",
       "      <td>finance</td>\n",
       "    </tr>\n",
       "    <tr>\n",
       "      <th>22977</th>\n",
       "      <td>58174</td>\n",
       "      <td>sports</td>\n",
       "    </tr>\n",
       "    <tr>\n",
       "      <th>22978</th>\n",
       "      <td>5159</td>\n",
       "      <td>travel</td>\n",
       "    </tr>\n",
       "    <tr>\n",
       "      <th>22979</th>\n",
       "      <td>61588</td>\n",
       "      <td>NaN</td>\n",
       "    </tr>\n",
       "  </tbody>\n",
       "</table>\n",
       "<p>22980 rows × 2 columns</p>\n",
       "</div>"
      ],
      "text/plain": [
       "      itemId category\n",
       "0      60615     news\n",
       "1      59742       tv\n",
       "2      16545   movies\n",
       "3      47558   health\n",
       "4       1150     news\n",
       "...      ...      ...\n",
       "22975  49206   sports\n",
       "22976  18161  finance\n",
       "22977  58174   sports\n",
       "22978   5159   travel\n",
       "22979  61588      NaN\n",
       "\n",
       "[22980 rows x 2 columns]"
      ]
     },
     "execution_count": 41,
     "metadata": {},
     "output_type": "execute_result"
    }
   ],
   "source": [
    "item_with_category"
   ]
  },
  {
   "cell_type": "code",
   "execution_count": 43,
   "id": "5510e8f5-6641-4788-9e90-9216d4ad1dd0",
   "metadata": {
    "tags": []
   },
   "outputs": [],
   "source": [
    "item_with_category = item_with_category.dropna(subset=['category'])"
   ]
  },
  {
   "cell_type": "code",
   "execution_count": 45,
   "id": "49e3dae6-e200-4366-8141-23c877119261",
   "metadata": {},
   "outputs": [
    {
     "name": "stdout",
     "output_type": "stream",
     "text": [
      "<class 'pandas.core.frame.DataFrame'>\n",
      "Int64Index: 21927 entries, 0 to 22978\n",
      "Data columns (total 2 columns):\n",
      " #   Column    Non-Null Count  Dtype \n",
      "---  ------    --------------  ----- \n",
      " 0   itemId    21927 non-null  object\n",
      " 1   category  21927 non-null  object\n",
      "dtypes: object(2)\n",
      "memory usage: 513.9+ KB\n"
     ]
    }
   ],
   "source": [
    "item_with_category.info()"
   ]
  },
  {
   "cell_type": "code",
   "execution_count": 65,
   "id": "a12169ea-2008-4f0d-9a01-efa40eb67ec5",
   "metadata": {
    "tags": []
   },
   "outputs": [],
   "source": [
    "# Reemplazar los valores NaN en la columna 'category' con 'unknown'\n",
    "#item_with_category['category'] = item_with_category['category'].fillna('unknown')"
   ]
  },
  {
   "cell_type": "code",
   "execution_count": 47,
   "id": "2bd668a2-dc4a-4b1c-95db-b53143baf846",
   "metadata": {
    "tags": []
   },
   "outputs": [],
   "source": [
    "map_items = {item: idx for idx, item in enumerate(item_with_category.itemId.unique())}"
   ]
  },
  {
   "cell_type": "code",
   "execution_count": 49,
   "id": "bcea0811-e85f-4d4d-87b3-d3f8b94593f7",
   "metadata": {
    "tags": []
   },
   "outputs": [
    {
     "name": "stdout",
     "output_type": "stream",
     "text": [
      "21927\n"
     ]
    }
   ],
   "source": [
    "print(len(map_items))"
   ]
  },
  {
   "cell_type": "code",
   "execution_count": 160,
   "id": "7b72dafa-3aa1-4548-84d9-6036d3484656",
   "metadata": {},
   "outputs": [],
   "source": [
    "#guardando categorias con sus respectivos id-categoria"
   ]
  },
  {
   "cell_type": "code",
   "execution_count": 51,
   "id": "761c85a9-3928-4a31-a271-d4a059436bea",
   "metadata": {
    "tags": []
   },
   "outputs": [
    {
     "name": "stderr",
     "output_type": "stream",
     "text": [
      "/tmp/ipykernel_17187/2780337898.py:2: SettingWithCopyWarning: \n",
      "A value is trying to be set on a copy of a slice from a DataFrame.\n",
      "Try using .loc[row_indexer,col_indexer] = value instead\n",
      "\n",
      "See the caveats in the documentation: https://pandas.pydata.org/pandas-docs/stable/user_guide/indexing.html#returning-a-view-versus-a-copy\n",
      "  item_with_category_copy['itemId'] = item_with_category_copy['itemId'].map(map_items)\n"
     ]
    }
   ],
   "source": [
    "item_with_category_copy=item_with_category\n",
    "item_with_category_copy['itemId'] = item_with_category_copy['itemId'].map(map_items)"
   ]
  },
  {
   "cell_type": "code",
   "execution_count": 53,
   "id": "d70d6c04-2066-4265-a86f-11c2dbb6b8b4",
   "metadata": {
    "tags": []
   },
   "outputs": [
    {
     "data": {
      "text/html": [
       "<div>\n",
       "<style scoped>\n",
       "    .dataframe tbody tr th:only-of-type {\n",
       "        vertical-align: middle;\n",
       "    }\n",
       "\n",
       "    .dataframe tbody tr th {\n",
       "        vertical-align: top;\n",
       "    }\n",
       "\n",
       "    .dataframe thead th {\n",
       "        text-align: right;\n",
       "    }\n",
       "</style>\n",
       "<table border=\"1\" class=\"dataframe\">\n",
       "  <thead>\n",
       "    <tr style=\"text-align: right;\">\n",
       "      <th></th>\n",
       "      <th>itemId</th>\n",
       "      <th>category</th>\n",
       "    </tr>\n",
       "  </thead>\n",
       "  <tbody>\n",
       "    <tr>\n",
       "      <th>0</th>\n",
       "      <td>0</td>\n",
       "      <td>news</td>\n",
       "    </tr>\n",
       "    <tr>\n",
       "      <th>1</th>\n",
       "      <td>1</td>\n",
       "      <td>tv</td>\n",
       "    </tr>\n",
       "    <tr>\n",
       "      <th>2</th>\n",
       "      <td>2</td>\n",
       "      <td>movies</td>\n",
       "    </tr>\n",
       "    <tr>\n",
       "      <th>3</th>\n",
       "      <td>3</td>\n",
       "      <td>health</td>\n",
       "    </tr>\n",
       "    <tr>\n",
       "      <th>4</th>\n",
       "      <td>4</td>\n",
       "      <td>news</td>\n",
       "    </tr>\n",
       "  </tbody>\n",
       "</table>\n",
       "</div>"
      ],
      "text/plain": [
       "   itemId category\n",
       "0       0     news\n",
       "1       1       tv\n",
       "2       2   movies\n",
       "3       3   health\n",
       "4       4     news"
      ]
     },
     "execution_count": 53,
     "metadata": {},
     "output_type": "execute_result"
    }
   ],
   "source": [
    "item_with_category_copy.head(5)"
   ]
  },
  {
   "cell_type": "code",
   "execution_count": 55,
   "id": "43f1f552-627b-4d75-b429-5c7f45bf7576",
   "metadata": {
    "tags": []
   },
   "outputs": [],
   "source": [
    "genre_map = {i['itemId']:i['category'].split(\"|\") for i in item_with_category_copy[['itemId', 'category']].to_dict('records')}"
   ]
  },
  {
   "cell_type": "code",
   "execution_count": 57,
   "id": "6f8972b4-f15d-43c1-89eb-0a2de66c9fa8",
   "metadata": {
    "tags": []
   },
   "outputs": [],
   "source": [
    "map_users = {user: idx for idx, user in enumerate(combined_df.userId.unique())}"
   ]
  },
  {
   "cell_type": "code",
   "execution_count": 59,
   "id": "44a0c050-384c-4c41-819c-ba007d335b1c",
   "metadata": {
    "tags": []
   },
   "outputs": [
    {
     "data": {
      "text/html": [
       "<div>\n",
       "<style scoped>\n",
       "    .dataframe tbody tr th:only-of-type {\n",
       "        vertical-align: middle;\n",
       "    }\n",
       "\n",
       "    .dataframe tbody tr th {\n",
       "        vertical-align: top;\n",
       "    }\n",
       "\n",
       "    .dataframe thead th {\n",
       "        text-align: right;\n",
       "    }\n",
       "</style>\n",
       "<table border=\"1\" class=\"dataframe\">\n",
       "  <thead>\n",
       "    <tr style=\"text-align: right;\">\n",
       "      <th></th>\n",
       "      <th>userId</th>\n",
       "      <th>itemId</th>\n",
       "      <th>rating</th>\n",
       "    </tr>\n",
       "  </thead>\n",
       "  <tbody>\n",
       "    <tr>\n",
       "      <th>0</th>\n",
       "      <td>22342</td>\n",
       "      <td>60615</td>\n",
       "      <td>1.0</td>\n",
       "    </tr>\n",
       "    <tr>\n",
       "      <th>1</th>\n",
       "      <td>22342</td>\n",
       "      <td>59742</td>\n",
       "      <td>1.0</td>\n",
       "    </tr>\n",
       "    <tr>\n",
       "      <th>2</th>\n",
       "      <td>22342</td>\n",
       "      <td>16545</td>\n",
       "      <td>1.0</td>\n",
       "    </tr>\n",
       "    <tr>\n",
       "      <th>3</th>\n",
       "      <td>22342</td>\n",
       "      <td>47558</td>\n",
       "      <td>1.0</td>\n",
       "    </tr>\n",
       "    <tr>\n",
       "      <th>4</th>\n",
       "      <td>22342</td>\n",
       "      <td>1150</td>\n",
       "      <td>1.0</td>\n",
       "    </tr>\n",
       "  </tbody>\n",
       "</table>\n",
       "</div>"
      ],
      "text/plain": [
       "  userId itemId  rating\n",
       "0  22342  60615     1.0\n",
       "1  22342  59742     1.0\n",
       "2  22342  16545     1.0\n",
       "3  22342  47558     1.0\n",
       "4  22342   1150     1.0"
      ]
     },
     "execution_count": 59,
     "metadata": {},
     "output_type": "execute_result"
    }
   ],
   "source": [
    "combined_df.head(5)"
   ]
  },
  {
   "cell_type": "code",
   "execution_count": 61,
   "id": "cfd7f7c6-ad92-435c-8c79-7bfb0affa550",
   "metadata": {
    "tags": []
   },
   "outputs": [],
   "source": [
    "combined_df['userId'] = combined_df['userId'].map(map_users)\n",
    "combined_df['itemId'] = combined_df['itemId'].map(map_items)"
   ]
  },
  {
   "cell_type": "code",
   "execution_count": 63,
   "id": "704fcb4e-5bbd-47dd-bf32-946a82cb2251",
   "metadata": {
    "tags": []
   },
   "outputs": [
    {
     "name": "stdout",
     "output_type": "stream",
     "text": [
      "<class 'pandas.core.frame.DataFrame'>\n",
      "RangeIndex: 501986 entries, 0 to 501985\n",
      "Data columns (total 3 columns):\n",
      " #   Column  Non-Null Count   Dtype  \n",
      "---  ------  --------------   -----  \n",
      " 0   userId  501986 non-null  int64  \n",
      " 1   itemId  486622 non-null  float64\n",
      " 2   rating  501986 non-null  float64\n",
      "dtypes: float64(2), int64(1)\n",
      "memory usage: 11.5 MB\n"
     ]
    }
   ],
   "source": [
    "combined_df.info()"
   ]
  },
  {
   "cell_type": "code",
   "execution_count": 65,
   "id": "fdcb96f3-f107-44a5-92b4-ac6ef4764fc3",
   "metadata": {
    "tags": []
   },
   "outputs": [
    {
     "name": "stdout",
     "output_type": "stream",
     "text": [
      "userId        0\n",
      "itemId    15364\n",
      "rating        0\n",
      "dtype: int64\n"
     ]
    }
   ],
   "source": [
    "nan_por_columna = combined_df.isna().sum()\n",
    "print(nan_por_columna)"
   ]
  },
  {
   "cell_type": "code",
   "execution_count": 69,
   "id": "d285ed19-63c9-422c-aead-9571a4ed8280",
   "metadata": {
    "tags": []
   },
   "outputs": [],
   "source": [
    "df = combined_df.dropna(subset=['itemId'])"
   ]
  },
  {
   "cell_type": "code",
   "execution_count": 71,
   "id": "f6782dba-e556-4bc1-bc91-de8055354155",
   "metadata": {
    "tags": []
   },
   "outputs": [
    {
     "name": "stderr",
     "output_type": "stream",
     "text": [
      "/tmp/ipykernel_17187/3396438640.py:1: SettingWithCopyWarning: \n",
      "A value is trying to be set on a copy of a slice from a DataFrame.\n",
      "Try using .loc[row_indexer,col_indexer] = value instead\n",
      "\n",
      "See the caveats in the documentation: https://pandas.pydata.org/pandas-docs/stable/user_guide/indexing.html#returning-a-view-versus-a-copy\n",
      "  df['itemId'] = df['itemId'].astype('int64')\n"
     ]
    }
   ],
   "source": [
    "df['itemId'] = df['itemId'].astype('int64')"
   ]
  },
  {
   "cell_type": "code",
   "execution_count": 73,
   "id": "59a2b981-9e94-400a-8683-78b566ab9360",
   "metadata": {
    "tags": []
   },
   "outputs": [
    {
     "name": "stdout",
     "output_type": "stream",
     "text": [
      "<class 'pandas.core.frame.DataFrame'>\n",
      "Int64Index: 486622 entries, 0 to 501985\n",
      "Data columns (total 3 columns):\n",
      " #   Column  Non-Null Count   Dtype  \n",
      "---  ------  --------------   -----  \n",
      " 0   userId  486622 non-null  int64  \n",
      " 1   itemId  486622 non-null  int64  \n",
      " 2   rating  486622 non-null  float64\n",
      "dtypes: float64(1), int64(2)\n",
      "memory usage: 14.9 MB\n"
     ]
    }
   ],
   "source": [
    "df.info()"
   ]
  },
  {
   "cell_type": "code",
   "execution_count": 75,
   "id": "89de17a9-21ff-4b09-8727-05fd4a1eca63",
   "metadata": {
    "tags": []
   },
   "outputs": [
    {
     "data": {
      "text/html": [
       "<div>\n",
       "<style scoped>\n",
       "    .dataframe tbody tr th:only-of-type {\n",
       "        vertical-align: middle;\n",
       "    }\n",
       "\n",
       "    .dataframe tbody tr th {\n",
       "        vertical-align: top;\n",
       "    }\n",
       "\n",
       "    .dataframe thead th {\n",
       "        text-align: right;\n",
       "    }\n",
       "</style>\n",
       "<table border=\"1\" class=\"dataframe\">\n",
       "  <thead>\n",
       "    <tr style=\"text-align: right;\">\n",
       "      <th></th>\n",
       "      <th>userId</th>\n",
       "      <th>itemId</th>\n",
       "      <th>rating</th>\n",
       "    </tr>\n",
       "  </thead>\n",
       "  <tbody>\n",
       "    <tr>\n",
       "      <th>0</th>\n",
       "      <td>0</td>\n",
       "      <td>0</td>\n",
       "      <td>1.0</td>\n",
       "    </tr>\n",
       "    <tr>\n",
       "      <th>1</th>\n",
       "      <td>0</td>\n",
       "      <td>1</td>\n",
       "      <td>1.0</td>\n",
       "    </tr>\n",
       "    <tr>\n",
       "      <th>2</th>\n",
       "      <td>0</td>\n",
       "      <td>2</td>\n",
       "      <td>1.0</td>\n",
       "    </tr>\n",
       "    <tr>\n",
       "      <th>3</th>\n",
       "      <td>0</td>\n",
       "      <td>3</td>\n",
       "      <td>1.0</td>\n",
       "    </tr>\n",
       "    <tr>\n",
       "      <th>4</th>\n",
       "      <td>0</td>\n",
       "      <td>4</td>\n",
       "      <td>1.0</td>\n",
       "    </tr>\n",
       "  </tbody>\n",
       "</table>\n",
       "</div>"
      ],
      "text/plain": [
       "   userId  itemId  rating\n",
       "0       0       0     1.0\n",
       "1       0       1     1.0\n",
       "2       0       2     1.0\n",
       "3       0       3     1.0\n",
       "4       0       4     1.0"
      ]
     },
     "execution_count": 75,
     "metadata": {},
     "output_type": "execute_result"
    }
   ],
   "source": [
    "df.head(5)"
   ]
  },
  {
   "cell_type": "code",
   "execution_count": 77,
   "id": "d538a95f-7a4e-4a47-9ec8-81d71a27b8a9",
   "metadata": {
    "tags": []
   },
   "outputs": [],
   "source": [
    "# Split behaviors_df into 80% training and 20% testing after preprocessing and mapping\n",
    "train_df, test_df = train_test_split(df, test_size=0.2, random_state=42)"
   ]
  },
  {
   "cell_type": "code",
   "execution_count": 79,
   "id": "8f52f885-2b9a-494d-ad9e-999e55fb01e6",
   "metadata": {
    "tags": []
   },
   "outputs": [
    {
     "name": "stdout",
     "output_type": "stream",
     "text": [
      "<class 'pandas.core.frame.DataFrame'>\n",
      "Int64Index: 389297 entries, 296442 to 125777\n",
      "Data columns (total 3 columns):\n",
      " #   Column  Non-Null Count   Dtype  \n",
      "---  ------  --------------   -----  \n",
      " 0   userId  389297 non-null  int64  \n",
      " 1   itemId  389297 non-null  int64  \n",
      " 2   rating  389297 non-null  float64\n",
      "dtypes: float64(1), int64(2)\n",
      "memory usage: 11.9 MB\n"
     ]
    }
   ],
   "source": [
    "train_df.info()"
   ]
  },
  {
   "cell_type": "code",
   "execution_count": 81,
   "id": "a05e3e5f-0c99-45f4-9efb-cb9eaa098c68",
   "metadata": {
    "tags": []
   },
   "outputs": [
    {
     "data": {
      "text/plain": [
       "array([46, 49, 54, 55, 54, 41, 61, 60, 62, 44, 58, 41, 48, 46, 57, 61, 47,\n",
       "       57, 42, 62, 51, 55, 44, 60, 49, 47, 42, 43, 59, 43, 51, 50, 45, 56])"
      ]
     },
     "execution_count": 81,
     "metadata": {},
     "output_type": "execute_result"
    }
   ],
   "source": [
    "a = train_df[train_df['userId'] == 1]['itemId'].values\n",
    "a"
   ]
  },
  {
   "cell_type": "code",
   "execution_count": 83,
   "id": "6ca8ce85-da8c-4521-8036-55bde4ec3b46",
   "metadata": {
    "tags": []
   },
   "outputs": [],
   "source": [
    "#get profile distribution\n",
    "def get_user_profile_distribution(df, user=6):\n",
    "    user_profile_distribution = {}\n",
    "    n = 0\n",
    "    for item in df[df['userId'] == user]['itemId'].values:\n",
    "        for genre in genre_map[item]:\n",
    "            if genre not in user_profile_distribution:\n",
    "                user_profile_distribution[genre] = 0\n",
    "                n += 1\n",
    "                user_profile_distribution[genre] += 1\n",
    "            \n",
    "    user_profile_distribution = {k: v/n for k, v in sorted(user_profile_distribution.items(), key=lambda item: item[1])}\n",
    "    \n",
    "    return user_profile_distribution"
   ]
  },
  {
   "cell_type": "code",
   "execution_count": 249,
   "id": "07268c8d-f9e0-49ac-8efa-262bb4556d17",
   "metadata": {
    "tags": []
   },
   "outputs": [],
   "source": [
    "#get profile distribution\n",
    "user_profile_distribution = {}\n",
    "n = 0\n",
    "for item in train_df[train_df['userId'] == 90 ]['itemId'].values:\n",
    "    for genre in genre_map[item]:\n",
    "        if genre not in user_profile_distribution:\n",
    "            user_profile_distribution[genre] = 0\n",
    "            n += 1\n",
    "            user_profile_distribution[genre] += 1\n",
    "    user_profile_distribution = {k: v/n for k, v in sorted(user_profile_distribution.items(), key=lambda item: item[1])}"
   ]
  },
  {
   "cell_type": "code",
   "execution_count": 251,
   "id": "1bb629cc-7b5a-4a61-8804-27ad55e8cdb4",
   "metadata": {
    "tags": []
   },
   "outputs": [
    {
     "data": {
      "text/plain": [
       "{'news': 0.5, 'lifestyle': 0.5}"
      ]
     },
     "execution_count": 251,
     "metadata": {},
     "output_type": "execute_result"
    }
   ],
   "source": [
    "user_profile_distribution"
   ]
  },
  {
   "cell_type": "markdown",
   "id": "2bc73a5f-5305-4da7-9f21-8d70691edac5",
   "metadata": {},
   "source": [
    "## 6. Obtaining user profile distribution"
   ]
  },
  {
   "cell_type": "code",
   "execution_count": 113,
   "id": "355e04a5-fe62-482a-9455-e6ce996c9b4b",
   "metadata": {
    "tags": []
   },
   "outputs": [],
   "source": [
    "#get distribution genres profile user 522\n",
    "#user_profile_distribution = get_user_profile_distribution(train_data, 1)\n",
    "def plot_user_profile_distribution(user_profile_distribution):\n",
    "    categories = list(user_profile_distribution.keys())\n",
    "    values = list(user_profile_distribution.values())\n",
    "    # Crear el gráfico de barras\n",
    "    plt.figure(figsize=(12, 8))\n",
    "    plt.bar(categories, values, color='gray')\n",
    "    plt.yscale('log')  # Escala logarítmica para valores pequeños\n",
    "    # Agregar etiquetas y título\n",
    "    plt.xlabel(\"Categoría\")\n",
    "    plt.ylabel(\"Distribución\")\n",
    "    plt.title(\"Distribución de Categorías\")\n",
    "    plt.xticks(rotation=45)\n",
    "    plt.grid(axis='y', linestyle='--', alpha=0.7)\n",
    "    # Mostrar el gráfico\n",
    "    plt.show()"
   ]
  },
  {
   "cell_type": "code",
   "execution_count": 253,
   "id": "41018f62-bfad-463e-be43-653e1a16cc99",
   "metadata": {
    "tags": []
   },
   "outputs": [
    {
     "data": {
      "image/png": "[encoded data removed]",
      "text/plain": [
       "<Figure size 1200x800 with 1 Axes>"
      ]
     },
     "metadata": {},
     "output_type": "display_data"
    }
   ],
   "source": [
    "chart = plot_user_profile_distribution(user_profile_distribution)"
   ]
  },
  {
   "cell_type": "markdown",
   "id": "a36e7d7d-a8a2-42f3-9320-6efb5a0c2501",
   "metadata": {},
   "source": [
    "## 7. Surpirse recommender"
   ]
  },
  {
   "cell_type": "code",
   "execution_count": 93,
   "id": "f7d1f4bd-c946-4828-a9ab-f80bb150f7bb",
   "metadata": {
    "tags": []
   },
   "outputs": [
    {
     "data": {
      "text/plain": [
       "<surprise.prediction_algorithms.matrix_factorization.SVDpp at 0x7f836ef9ed00>"
      ]
     },
     "execution_count": 93,
     "metadata": {},
     "output_type": "execute_result"
    }
   ],
   "source": [
    "#Import the model svd++\n",
    "from surprise import SVDpp\n",
    "from surprise import Dataset, Reader\n",
    "\n",
    "# Define the rating scale for the dataset\n",
    "reader = Reader(rating_scale=(0, 5))\n",
    "\n",
    "# Load the training data into Surprise's format\n",
    "trainset = Dataset.load_from_df(\n",
    "    train_df[[\"userId\", \"itemId\", \"rating\"]], reader=reader\n",
    ").build_full_trainset()\n",
    "\n",
    "# Initialize and fit the SVD++ model\n",
    "svdpp = SVDpp()\n",
    "svdpp.fit(trainset)"
   ]
  },
  {
   "cell_type": "code",
   "execution_count": 95,
   "id": "e54b5356-6063-4207-8d87-df913c0a9486",
   "metadata": {},
   "outputs": [
    {
     "name": "stderr",
     "output_type": "stream",
     "text": [
      "100%|██████████| 500/500 [09:27<00:00,  1.14s/it]\n"
     ]
    }
   ],
   "source": [
    "import tqdm\n",
    "new_predictions_svdpp = []\n",
    "prediction_user_map_svdpp = {}\n",
    "data_p2_svdpp = []\n",
    "\n",
    "for user in tqdm.tqdm(sorted(test_df['userId'].unique())[:500]):\n",
    "    data = {\"itemId\": list(set(combined_df[\"itemId\"].unique()))}\n",
    "    user_testset_df = pd.DataFrame(data)\n",
    "    user_testset_df[\"rating\"] = 0.0\n",
    "    user_testset_df[\"userId\"] = user\n",
    "    \n",
    "    testset = (\n",
    "        Dataset.load_from_df(\n",
    "            user_testset_df[[\"userId\", \"itemId\", \"rating\"]],\n",
    "            reader=reader,\n",
    "        )\n",
    "        .build_full_trainset()\n",
    "        .build_testset()\n",
    "    )\n",
    "    predictions = sorted(\n",
    "        [(pred.iid, pred.est)for pred in svdpp.test(testset) if ((pred.uid == user))],\n",
    "        key=lambda x: x[1],reverse=True\n",
    "    )\n",
    "    new_predictions_svdpp.append(predictions[:10])\n",
    "    prediction_user_map_svdpp[user] = predictions[:10]"
   ]
  },
  {
   "cell_type": "code",
   "execution_count": 147,
   "id": "dfc87dfb-b959-4143-bd95-b61450e59b57",
   "metadata": {
    "tags": []
   },
   "outputs": [],
   "source": [
    "#funcion que grafica la distribucion de categorias consumidas por el usuario y la distribucion de categorias hechas por el sistemas de recomenacion\n",
    "def plot_distribution_profile_recomendations(user_profile_distribution,user_rec_distribution_svdpp):\n",
    "    plt.figure(figsize=(12, 8))\n",
    "    x_map = {}\n",
    "    n = 0\n",
    "    for genre in user_profile_distribution:\n",
    "        if genre not in x_map:\n",
    "            x_map[genre] = n\n",
    "            n += 2\n",
    "    for genre in user_rec_distribution_svdpp:\n",
    "        if genre not in x_map:\n",
    "            x_map[genre] = n\n",
    "            n += 2\n",
    "    plt.bar(\n",
    "    x=[x_map[i[0]] for i in user_profile_distribution.items()],\n",
    "    height=[i[1] for i in user_profile_distribution.items()],\n",
    "    color='blue', label=\"Perfil\", width=0.8, alpha=0.6\n",
    "    )\n",
    "\n",
    "    plt.bar(\n",
    "    x=[x_map[i[0]]+0.8 for i in user_rec_distribution_svdpp.items()],\n",
    "    height=[i[1] for i in user_rec_distribution_svdpp.items()],\n",
    "    color='gray', label=\"Recomendações\",width=0.8\n",
    "    )\n",
    "\n",
    "    plt.xticks(rotation=45)\n",
    "    plt.yscale('log')  # Escala logarítmica para valores pequeños\n",
    "    plt.xlabel(\"Categorias\")\n",
    "    plt.ylabel(\"Presença de categorias (%)\")\n",
    "    plt.xticks([x_map[i] for i in x_map], [i for i in x_map])\n",
    "    plt.grid()\n",
    "    plt.legend()\n",
    "    plt.show()\n",
    "    "
   ]
  },
  {
   "cell_type": "code",
   "execution_count": 269,
   "id": "6107089a-3fa1-4964-bfe9-4be2cf00449e",
   "metadata": {
    "tags": []
   },
   "outputs": [
    {
     "data": {
      "image/png": "[encoded data removed]",
      "text/plain": [
       "<Figure size 1200x800 with 1 Axes>"
      ]
     },
     "metadata": {},
     "output_type": "display_data"
    }
   ],
   "source": [
    "user_rec_distribution_svdpp = get_user_recommendation_distribution(prediction_user_map_svdpp[90])\n",
    "#aqui obtnemos la distribucion del perfil del usuario peliculas consumidas por el usuario\n",
    "user_profile_distribution_svdpp = get_user_profile_distribution(train_df, 90)\n",
    "plot_distribution_profile_recomendations(user_profile_distribution,user_rec_distribution_svdpp)"
   ]
  },
  {
   "cell_type": "markdown",
   "id": "879cfb70-c284-4bec-bb36-a612dcd56e09",
   "metadata": {},
   "source": [
    "### Metricas"
   ]
  },
  {
   "cell_type": "code",
   "execution_count": 257,
   "id": "8b840b59-fb93-4bd9-bc13-beb8c9a8c345",
   "metadata": {
    "tags": []
   },
   "outputs": [
    {
     "data": {
      "text/plain": [
       "0.5065815440256729"
      ]
     },
     "execution_count": 257,
     "metadata": {},
     "output_type": "execute_result"
    }
   ],
   "source": [
    "MRMC_before_svdpp = get_mean_rank_miscalibration(prediction_user_map_svdpp)\n",
    "MRMC_before_svdpp"
   ]
  },
  {
   "cell_type": "code",
   "execution_count": 259,
   "id": "57e97a6a-26c1-414d-bf7b-f4496790f42f",
   "metadata": {
    "tags": []
   },
   "outputs": [
    {
     "data": {
      "text/plain": [
       "0.0"
      ]
     },
     "execution_count": 259,
     "metadata": {},
     "output_type": "execute_result"
    }
   ],
   "source": [
    "# MRR\n",
    "MRR_before = calculate_MRR(prediction_user_map_svdpp)\n",
    "MRR_before"
   ]
  },
  {
   "cell_type": "markdown",
   "id": "0ca5e556-5269-4c38-ac02-d8c2ea1aa411",
   "metadata": {},
   "source": [
    "## 8.Calibration"
   ]
  },
  {
   "cell_type": "code",
   "execution_count": 183,
   "id": "19972273-3c07-4aa8-ab0d-b433f397fb40",
   "metadata": {
    "tags": []
   },
   "outputs": [
    {
     "name": "stderr",
     "output_type": "stream",
     "text": [
      "100%|██████████| 500/500 [09:36<00:00,  1.15s/it]\n"
     ]
    }
   ],
   "source": [
    "tradeoff = 0.5\n",
    "N = 10\n",
    "\n",
    "prediction_user_map_after_calibration_svdpp = {}\n",
    "\n",
    "for user in tqdm.tqdm(sorted(test_df['userId'].unique())[:500]):\n",
    "    \n",
    "    user_profile_distribution = get_user_profile_distribution(train_df, user)\n",
    "    \n",
    "    data = {\"itemId\": list(set(combined_df[\"itemId\"].unique()))}\n",
    "    user_testset_df = pd.DataFrame(data)\n",
    "    user_testset_df[\"rating\"] = 0.0\n",
    "    user_testset_df[\"userId\"] = user\n",
    "    \n",
    "    testset = (\n",
    "        Dataset.load_from_df(\n",
    "            user_testset_df[[\"userId\", \"itemId\", \"rating\"]],\n",
    "            reader=reader,\n",
    "        )\n",
    "        .build_full_trainset()\n",
    "        .build_testset()\n",
    "    )\n",
    "    predictions = sorted(\n",
    "        [(pred.iid, pred.est)for pred in svdpp.test(testset) if ((pred.uid == user))],\n",
    "        key=lambda x: x[1],reverse=True\n",
    "    )\n",
    "    \n",
    "    \n",
    "    reranked_list = rerank_recommendation(\n",
    "        user_profile_distribution,\n",
    "        predictions[:100],\n",
    "        user,\n",
    "        N,\n",
    "        tradeoff\n",
    "    )\n",
    "    \n",
    "    prediction_user_map_after_calibration_svdpp[user] = reranked_list[1]"
   ]
  },
  {
   "cell_type": "markdown",
   "id": "320274ce-6a15-4cbb-8eee-a5001a62a26c",
   "metadata": {},
   "source": [
    "### Metrics post calibration"
   ]
  },
  {
   "cell_type": "code",
   "execution_count": 261,
   "id": "9dfd7c38-3f55-4259-9f1c-7013f85e6073",
   "metadata": {
    "tags": []
   },
   "outputs": [
    {
     "data": {
      "text/plain": [
       "0.17422754271402413"
      ]
     },
     "execution_count": 261,
     "metadata": {},
     "output_type": "execute_result"
    }
   ],
   "source": [
    "MRMC_after_svdpp = get_mean_rank_miscalibration(prediction_user_map_after_calibration_svdpp)\n",
    "MRMC_after_svdpp"
   ]
  },
  {
   "cell_type": "code",
   "execution_count": 263,
   "id": "f9855d23-6b83-470b-8be5-4038837ad4a9",
   "metadata": {
    "tags": []
   },
   "outputs": [
    {
     "data": {
      "text/plain": [
       "0.00025"
      ]
     },
     "execution_count": 263,
     "metadata": {},
     "output_type": "execute_result"
    }
   ],
   "source": [
    "# MRR\n",
    "MRR_before_svdpp = calculate_MRR(prediction_user_map_after_calibration_svdpp)\n",
    "MRR_before_svdpp"
   ]
  },
  {
   "cell_type": "markdown",
   "id": "6741fbee-23e2-480d-b2a1-4718a9f2612b",
   "metadata": {},
   "source": [
    "## 9. Comparation"
   ]
  },
  {
   "cell_type": "code",
   "execution_count": 265,
   "id": "c95dde13-eabd-406e-9028-b9145077cf93",
   "metadata": {
    "tags": []
   },
   "outputs": [],
   "source": [
    "user_rec_distribution = get_user_recommendation_distribution(prediction_user_map_svdpp[90])\n",
    "user_rec_distribution_after_calibration = get_user_recommendation_distribution(prediction_user_map_after_calibration_svdpp[90])\n",
    "user_profile_distribution = get_user_profile_distribution(train_df, 90)"
   ]
  },
  {
   "cell_type": "code",
   "execution_count": 267,
   "id": "c1ae223b-484d-48b0-9e14-d42af3d9de39",
   "metadata": {
    "tags": []
   },
   "outputs": [
    {
     "data": {
      "image/png": "[encoded data removed]",
      "text/plain": [
       "<Figure size 1200x800 with 1 Axes>"
      ]
     },
     "metadata": {},
     "output_type": "display_data"
    }
   ],
   "source": [
    "\n",
    "plt.figure(figsize=(12, 8))\n",
    "\n",
    "x_map = {}\n",
    "n = 0\n",
    "for genre in user_profile_distribution:\n",
    "    if genre not in x_map:\n",
    "        x_map[genre] = n\n",
    "        n += 2\n",
    "for genre in user_rec_distribution:\n",
    "    if genre not in x_map:\n",
    "        x_map[genre] = n\n",
    "        n += 2\n",
    "\n",
    "plt.bar(\n",
    "    x=[x_map[i[0]] for i in user_profile_distribution.items()],\n",
    "    height=[i[1] for i in user_profile_distribution.items()],\n",
    "    color='blue', label=\"Perfil\", width=.8, alpha=0.6\n",
    ")\n",
    "\n",
    "plt.bar(\n",
    "    x=[x_map[i[0]]+0.8 for i in user_rec_distribution_after_calibration.items()],\n",
    "    height=[i[1] for i in user_rec_distribution_after_calibration.items()],\n",
    "    color='green', label=\"Recomendações Calibradas\",width=0.8\n",
    ")\n",
    "\n",
    "plt.xticks(rotation=45)\n",
    "plt.yscale('log')  # Escala logarítmica para valores pequeños\n",
    "plt.xlabel(\"Generos\")\n",
    "plt.ylabel(\"Presença do Genero (%)\")\n",
    "plt.xticks([x_map[i] for i in x_map], [i for i in x_map])\n",
    "plt.grid()\n",
    "plt.legend()\n",
    "plt.show()"
   ]
  }
 ],
 "metadata": {
  "kernelspec": {
   "display_name": "Python 3 (ipykernel)",
   "language": "python",
   "name": "python3"
  },
  "language_info": {
   "codemirror_mode": {
    "name": "ipython",
    "version": 3
   },
   "file_extension": ".py",
   "mimetype": "text/x-python",
   "name": "python",
   "nbconvert_exporter": "python",
   "pygments_lexer": "ipython3",
   "version": "3.9.19"
  }
 },
 "nbformat": 4,
 "nbformat_minor": 5
}
